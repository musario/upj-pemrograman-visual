{
  "nbformat": 4,
  "nbformat_minor": 0,
  "metadata": {
    "colab": {
      "provenance": []
    },
    "kernelspec": {
      "name": "python3",
      "display_name": "Python 3"
    },
    "language_info": {
      "name": "python"
    }
  },
  "cells": [
    {
      "cell_type": "code",
      "execution_count": 35,
      "metadata": {
        "colab": {
          "base_uri": "https://localhost:8080/"
        },
        "id": "mrfv9rWNeym5",
        "outputId": "7d46530a-ea5d-4cbc-a9ea-5f5a5bc0832e"
      },
      "outputs": [
        {
          "output_type": "stream",
          "name": "stdout",
          "text": [
            "======================================[ Berburu Takjil! ]======================================\n",
            "\n",
            "Di suatu sore yang hangat di bulan Ramadhan, Andi memutuskan untuk pergi berburu takjil di pasar. \n",
            "Langit senja berwarna jingga menghiasi langit, menandakan bahwa waktu berbukasebentar lagi. \n",
            "Dengan hati yang penuh semangat, Andi melangkah keluar rumah menuju ke pasar yang ramai. \n",
            "Saat tiba di pasar, suasana riuh rendah dan aroma harum makanan yang khas Ramadhan langsung menyapanya. \n",
            "Andi melihat berbagai penjual takjil dengan berbagai pilihan yang menggugah selera. \n",
            "Mulai dari kolak manis, es buah segar, kurma lezat, hingga aneka kue kering cantik terpampang \n",
            "di etalase-etalase mereka. Bantu Andi memilih menu Takjilnya!\n",
            "\n",
            "Menu Takjil:\n",
            "a. Kolak manis\n",
            "b. Kurma\n",
            "c. Gorengan\n",
            "d. Es buah\n",
            "Pilihan (a, b, c, d), atau ketik 'selesai' untuk selesai: a\n",
            "Pilihan (a, b, c, d), atau ketik 'selesai' untuk selesai: b\n",
            "Pilihan (a, b, c, d), atau ketik 'selesai' untuk selesai: c\n",
            "Pilihan (a, b, c, d), atau ketik 'selesai' untuk selesai: selesai\n",
            "\n",
            "Takjil Gorengan, Kolak Manis, dan Kurma \n",
            "\n",
            "Setelah Andi membeli takjil di pasar, di tengah jalan ia melihat seorang pria paruh baya dengan pakaian sobek-sobek \n",
            "sedang tidur di pinggir jalan. Karena iba, Andi memberi takjil yang dia beli ke pria paruh baya tersebut. \n",
            "Bantu Andi memilih menu takjil untuk diberikan ke pria paruh baya tersebut!\n",
            "\n",
            "List Takjil yang Dibeli Andi:\n",
            "1. Gorengan\n",
            "2. Kolak Manis\n",
            "3. Kurma\n",
            "Pilihan (1 - 4), atau ketik 0 untuk selesai: 1\n",
            "Sisa takjil:  {'Kolak Manis', 'Kurma'}\n",
            "Pilihan (1 - 4), atau ketik 0 untuk selesai: 2\n",
            "Sisa takjil:  {'Kurma'}\n",
            "Pilihan (1 - 4), atau ketik 0 untuk selesai: 0\n",
            "Sisa takjil:  {'Kurma'}\n",
            "\n",
            "Takjil "
          ]
        }
      ],
      "source": [
        "import matplotlib.pyplot as plt\n",
        "import numpy as np\n",
        "\n",
        "def get_takjil(keranjang):\n",
        "    print(\"Takjil\", end=\" \")\n",
        "    i = 0\n",
        "    opt = \"\"\n",
        "    for k in keranjang:\n",
        "        if i != len(keranjang) and i == len(keranjang) - 2:\n",
        "            opt = \", dan \"\n",
        "        elif len(keranjang) == 1 or i == len(keranjang) - 1:\n",
        "            opt = \" \"\n",
        "        else:\n",
        "            opt = \", \"\n",
        "        print(k, end=opt)\n",
        "        i += 1\n",
        "\n",
        "print(\"======================================[ Berburu Takjil! ]======================================\")\n",
        "print(\"\"\"\n",
        "Di suatu sore yang hangat di bulan Ramadhan, Andi memutuskan untuk pergi berburu takjil di pasar.\n",
        "Langit senja berwarna jingga menghiasi langit, menandakan bahwa waktu berbukasebentar lagi.\n",
        "Dengan hati yang penuh semangat, Andi melangkah keluar rumah menuju ke pasar yang ramai.\n",
        "Saat tiba di pasar, suasana riuh rendah dan aroma harum makanan yang khas Ramadhan langsung menyapanya.\n",
        "Andi melihat berbagai penjual takjil dengan berbagai pilihan yang menggugah selera.\n",
        "Mulai dari kolak manis, es buah segar, kurma lezat, hingga aneka kue kering cantik terpampang\n",
        "di etalase-etalase mereka. Bantu Andi memilih menu Takjilnya!\n",
        "\"\"\")\n",
        "\n",
        "print(\"Menu Takjil:\")\n",
        "print(\"a. Kolak manis\")\n",
        "print(\"b. Kurma\")\n",
        "print(\"c. Gorengan\")\n",
        "print(\"d. Es buah\")\n",
        "\n",
        "pilihan = []\n",
        "while True:\n",
        "    takjil = input(\"Pilihan (a, b, c, d), atau ketik 'selesai' untuk selesai: \")\n",
        "    pilihan.append(takjil)\n",
        "    if takjil == 'selesai':\n",
        "        break\n",
        "\n",
        "keranjang = set()\n",
        "for p in pilihan:\n",
        "    if p == 'a':\n",
        "        keranjang.add('Kolak Manis')\n",
        "    elif p == 'b':\n",
        "        keranjang.add('Kurma')\n",
        "    elif p == 'c':\n",
        "        keranjang.add('Gorengan')\n",
        "    elif p == 'd':\n",
        "        keranjang.add('Es Buah')\n",
        "\n",
        "print()\n",
        "get_takjil(keranjang)\n",
        "\n",
        "print()\n",
        "print(\"\"\"\n",
        "Setelah Andi membeli takjil di pasar, di tengah jalan ia melihat seorang pria paruh baya dengan pakaian sobek-sobek\n",
        "sedang tidur di pinggir jalan. Karena iba, Andi memberi takjil yang dia beli ke pria paruh baya tersebut.\n",
        "Bantu Andi memilih menu takjil untuk diberikan ke pria paruh baya tersebut!\n",
        "\"\"\")\n",
        "\n",
        "print(\"List Takjil yang Dibeli Andi:\")\n",
        "i = 1\n",
        "for k in keranjang:\n",
        "    print(f\"{i}. {k}\")\n",
        "    i += 1\n",
        "while True:\n",
        "    takjil = int(input(\"Pilihan (1 - 4), atau ketik 0 untuk selesai: \"))\n",
        "\n",
        "    if takjil == 1:\n",
        "        keranjang.remove('Gorengan')\n",
        "    elif takjil == 2:\n",
        "        keranjang.remove('Kolak Manis')\n",
        "    elif takjil == 3:\n",
        "        keranjang.remove('Kurma')\n",
        "    elif takjil == 4:\n",
        "        keranjang.remove('Es Buah')\n",
        "\n",
        "    print(\"Sisa takjil: \", keranjang)\n",
        "\n",
        "    if takjil == 0:\n",
        "        break\n"
      ]
    },
    {
      "cell_type": "code",
      "source": [
        "# LATIHAN BOOL\n",
        "\n",
        "a = int(input(\"Masukkan nilai a: \"))\n",
        "b = int(input(\"Masukkan nilai b: \"))\n",
        "\n",
        "print(\"Nilai a:\", a)\n",
        "print(\"Nilai b:\", b)\n",
        "\n",
        "print()\n",
        "\n",
        "if a > b:\n",
        "    print(\"Nilai a lebih besar dari b!\")\n",
        "elif a < b:\n",
        "    print(\"Nilai a lebih kecil dari b!\")\n",
        "else:\n",
        "    print(\"Nilai a dan b sama!\")\n",
        "\n",
        "print()\n",
        "\n",
        "ppn = 12/100\n",
        "ppns = []\n",
        "if a > 10000:\n",
        "    a_ppn = a * ppn\n",
        "    ppns.append(a_ppn)\n",
        "if b > 50000:  # Menggunakan if terpisah untuk memeriksa kedua kondisi secara independen\n",
        "    b_ppn = b * ppn\n",
        "    ppns.append(b_ppn)\n",
        "\n",
        "for p in ppns:\n",
        "    if p in [a_ppn, b_ppn]:  # Memeriksa apakah p adalah salah satu dari a_ppn atau b_ppn\n",
        "        if p == a_ppn:\n",
        "            print(\"PPN a:\", p)\n",
        "        else:\n",
        "            print(\"PPN b:\", p)\n",
        "\n",
        "print(\"PPN a + PPN b:\", a + b)\n",
        "print()\n",
        "while ppns:\n",
        "    ppns.pop()\n",
        "print(\"PPN a dan b dihapus!\")"
      ],
      "metadata": {
        "colab": {
          "base_uri": "https://localhost:8080/"
        },
        "id": "8e9UAVx1mZQs",
        "outputId": "e757bbd4-2a2b-4321-cd34-47968554fc46"
      },
      "execution_count": 36,
      "outputs": [
        {
          "output_type": "stream",
          "name": "stdout",
          "text": [
            "Masukkan nilai a: 20000\n",
            "Masukkan nilai b: 60000\n",
            "Nilai a: 20000\n",
            "Nilai b: 60000\n",
            "\n",
            "Nilai a lebih kecil dari b!\n",
            "\n",
            "PPN a: 2400.0\n",
            "PPN b: 7200.0\n",
            "PPN a + PPN b: 80000\n",
            "\n",
            "PPN a dan b dihapus!\n"
          ]
        }
      ]
    },
    {
      "cell_type": "code",
      "source": [
        "pixel_row = 100\n",
        "rowmax = int(1079)\n",
        "batas1 = int(0.5*rowmax)\n",
        "\n",
        "print(\"batas1:\", batas1)\n",
        "print(\"Posisi pixel berada pada baris ke-\", pixel_row)\n",
        "\n",
        "if pixel_row < batas1:\n",
        "    print(\"Warnai pixel merah.\")\n",
        "if pixel_row == batas1:\n",
        "    print(\"Warnai pixel hitam.\")\n",
        "if pixel_row > batas1:\n",
        "    print(\"Warnai pixel putih.\")\n",
        "if pixel_row <= batas1:\n",
        "    print(\"Warnai pixel kuning.\")\n",
        "if pixel_row > batas1:\n",
        "    print(\"Warnai pixel ungu.\")"
      ],
      "metadata": {
        "id": "baalEB0q1iC3",
        "outputId": "ff070cd1-c125-475b-a7e5-dd8242335245",
        "colab": {
          "base_uri": "https://localhost:8080/"
        }
      },
      "execution_count": 24,
      "outputs": [
        {
          "output_type": "stream",
          "name": "stdout",
          "text": [
            "batas1: 539\n",
            "Posisi pixel berada pada baris ke- 100\n",
            "Warnai pixel merah.\n",
            "Warnai pixel kuning.\n"
          ]
        }
      ]
    },
    {
      "cell_type": "code",
      "source": [
        "pixel_row = 300\n",
        "rowmax = int(1079)\n",
        "\n",
        "batas1 = int(0.2*rowmax)\n",
        "batas2 = int(0.4*rowmax)\n",
        "batas3 = int(0.6*rowmax)\n",
        "batas4 = int(0.8*rowmax)\n",
        "\n",
        "print(\"batas1:\", batas1)\n",
        "print(\"batas2:\", batas2)\n",
        "print(\"batas3:\", batas3)\n",
        "print(\"batas4:\", batas4)\n",
        "print(\"rowmax:\", rowmax)\n",
        "\n",
        "print(\"Posisi pixel berada pada baris ke-\", pixel_row)\n",
        "\n",
        "if (pixel_row >= 0 and pixel_row < batas1):\n",
        "    print(\"Warnai pixel merah.\")\n",
        "if (pixel_row >= batas1 and pixel_row < batas2):\n",
        "    print(\"Warnai pixel hijau.\")\n",
        "if (pixel_row >= batas2 and pixel_row < batas3):\n",
        "    print(\"Warnai pixel biru.\")\n",
        "if (pixel_row >= batas3 and pixel_row < batas4):\n",
        "    print(\"Warnai pixel kuning.\")\n",
        "if (pixel_row >= batas4 and pixel_row < rowmax):\n",
        "    print(\"Warnai pixel ungu.\")"
      ],
      "metadata": {
        "id": "5VnLpsEv2yUI",
        "outputId": "5fee0714-83da-48ab-b13c-3721f4d1d47c",
        "colab": {
          "base_uri": "https://localhost:8080/"
        }
      },
      "execution_count": 26,
      "outputs": [
        {
          "output_type": "stream",
          "name": "stdout",
          "text": [
            "batas1: 215\n",
            "batas2: 431\n",
            "batas3: 647\n",
            "batas4: 863\n",
            "rowmax: 1079\n",
            "Posisi pixel berada pada baris ke- 300\n",
            "Warnai pixel hijau.\n"
          ]
        }
      ]
    },
    {
      "cell_type": "code",
      "source": [
        "print(\"\\033c\")\n",
        "\n",
        "rowmax = int(1079)\n",
        "colmax = int(1919)\n",
        "\n",
        "radius_max = int(1000)\n",
        "batas1 = int(0.2*radius_max)\n",
        "batas2 = int(0.4*radius_max)\n",
        "batas3 = int(0.6*radius_max)\n",
        "batas4 = int(0.8*radius_max)\n",
        "\n",
        "Gambar = np.zeros(shape=(rowmax+1, colmax+1, 3), dtype=np.int16)\n",
        "for i in range(0, rowmax+1):\n",
        "    for j in range(0, colmax+1):\n",
        "        if (i**2+j**2) >= 0 and (i**2+j**2) < batas1**2:\n",
        "            Gambar[i, j, 0] = 255\n",
        "        if (i**2+j**2) >= batas1**2 and (i**2+j**2) < batas2**2:\n",
        "            Gambar[i, j, 1] = 255\n",
        "        if (i**2+j**2) >= batas2**2 and (i**2+j**2) < batas3**2:\n",
        "            Gambar[i, j, 2] = 255\n",
        "        if (i**2+j**2) >= batas3**2 and (i**2+j**2) < batas4**2:\n",
        "            Gambar[i, j, 0] = 255\n",
        "            Gambar[i, j, 1] = 255\n",
        "        if (i**2+j**2) >= batas4**2 and (i**2+j**2) < radius_max**2:\n",
        "            Gambar[i, j, 0] = 255\n",
        "            Gambar[i, j, 2] = 255\n",
        "\n",
        "plt.figure()\n",
        "plt.imshow(Gambar)\n",
        "plt.show()"
      ],
      "metadata": {
        "id": "0ulrs5PB4nbo",
        "outputId": "d024d2bc-e47b-4a49-a083-90d97799b254",
        "colab": {
          "base_uri": "https://localhost:8080/",
          "height": 362
        }
      },
      "execution_count": 28,
      "outputs": [
        {
          "output_type": "stream",
          "name": "stdout",
          "text": [
            "\u001bc\n"
          ]
        },
        {
          "output_type": "display_data",
          "data": {
            "text/plain": [
              "<Figure size 640x480 with 1 Axes>"
            ],
            "image/png": "[encoded data removed]"
          },
          "metadata": {}
        }
      ]
    }
  ]
}
